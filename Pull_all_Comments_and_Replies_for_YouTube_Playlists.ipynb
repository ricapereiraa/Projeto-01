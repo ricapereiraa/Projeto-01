{
  "nbformat": 4,
  "nbformat_minor": 0,
  "metadata": {
    "colab": {
      "provenance": [],
      "include_colab_link": true
    },
    "kernelspec": {
      "name": "python3",
      "display_name": "Python 3"
    },
    "language_info": {
      "name": "python"
    }
  },
  "cells": [
    {
      "cell_type": "markdown",
      "metadata": {
        "id": "view-in-github",
        "colab_type": "text"
      },
      "source": [
        "<a href=\"https://colab.research.google.com/github/ricapereiraa/Python-YT/blob/main/Pull_all_Comments_and_Replies_for_YouTube_Playlists.ipynb\" target=\"_parent\"><img src=\"https://colab.research.google.com/assets/colab-badge.svg\" alt=\"Open In Colab\"/></a>"
      ]
    },
    {
      "cell_type": "markdown",
      "source": [
        "### Imports"
      ],
      "metadata": {
        "id": "jF_ENh3atCvf"
      }
    },
    {
      "cell_type": "code",
      "source": [
        "from googleapiclient.discovery import build\n",
        "import pandas as pd\n",
        "from google.colab import files, drive\n",
        "import getpass"
      ],
      "metadata": {
        "id": "I3JYDedSB02s"
      },
      "execution_count": 1,
      "outputs": []
    },
    {
      "cell_type": "markdown",
      "source": [
        "## User Input"
      ],
      "metadata": {
        "id": "svxnefn2B5Yt"
      }
    },
    {
      "cell_type": "code",
      "source": [
        "api_key = getpass.getpass('Please enter your YouTube API key: ')\n",
        "playlist_ids = ['PLgQcxa0Kp5fdLvN9caDQPADI4x43Nsm1Z']\n"
      ],
      "metadata": {
        "id": "shzPziGAsy_l",
        "colab": {
          "base_uri": "https://localhost:8080/"
        },
        "outputId": "f0f5c8ef-5617-4cbb-d58a-f172e0c71dc1"
      },
      "execution_count": 3,
      "outputs": [
        {
          "name": "stdout",
          "output_type": "stream",
          "text": [
            "Please enter your YouTube API key: ··········\n"
          ]
        }
      ]
    },
    {
      "cell_type": "code",
      "execution_count": 6,
      "metadata": {
        "id": "hK5fMz-Zgg_F"
      },
      "outputs": [],
      "source": [
        "# Build the YouTube client\n",
        "youtube = build('youtube', 'v3', developerKey=api_key)"
      ]
    },
    {
      "cell_type": "markdown",
      "source": [
        "## Get Video IDs for Playlist"
      ],
      "metadata": {
        "id": "EGeNx0lTCUNL"
      }
    },
    {
      "cell_type": "code",
      "source": [
        "def get_all_video_ids_from_playlists(youtube, playlist_ids):\n",
        "    all_videos = []  # Initialize a single list to hold all video IDs\n",
        "\n",
        "    for playlist_id in playlist_ids:\n",
        "        next_page_token = None\n",
        "\n",
        "        # Fetch videos from the current playlist\n",
        "        while True:\n",
        "            playlist_request = youtube.playlistItems().list(\n",
        "                part='contentDetails',\n",
        "                playlistId=playlist_id,\n",
        "                maxResults=50,\n",
        "                pageToken=next_page_token)\n",
        "            playlist_response = playlist_request.execute()\n",
        "\n",
        "            all_videos += [item['contentDetails']['videoId'] for item in playlist_response['items']]\n",
        "\n",
        "            next_page_token = playlist_response.get('nextPageToken')\n",
        "\n",
        "            if next_page_token is None:\n",
        "                break\n",
        "\n",
        "    return all_videos\n",
        "\n",
        "# Fetch all video IDs from the specified playlists\n",
        "video_ids = get_all_video_ids_from_playlists(youtube, playlist_ids)\n",
        "\n",
        "# Now you can pass video_ids to the next function\n",
        "# next_function(video_ids)"
      ],
      "metadata": {
        "id": "zL7LFvM4BO_a"
      },
      "execution_count": 7,
      "outputs": []
    },
    {
      "cell_type": "markdown",
      "source": [
        "## Get All Comments"
      ],
      "metadata": {
        "id": "dQ-LTgQatXIi"
      }
    },
    {
      "cell_type": "code",
      "source": [
        "# Function to get replies for a specific comment\n",
        "def get_replies(youtube, parent_id, video_id):  # Added video_id as an argument\n",
        "    replies = []\n",
        "    next_page_token = None\n",
        "\n",
        "    while True:\n",
        "        reply_request = youtube.comments().list(\n",
        "            part=\"snippet\",\n",
        "            parentId=parent_id,\n",
        "            textFormat=\"plainText\",\n",
        "            maxResults=100,\n",
        "            pageToken=next_page_token\n",
        "        )\n",
        "        reply_response = reply_request.execute()\n",
        "\n",
        "        for item in reply_response['items']:\n",
        "            comment = item['snippet']\n",
        "            replies.append({\n",
        "                'Timestamp': comment['publishedAt'],\n",
        "                'Username': comment['authorDisplayName'],\n",
        "                'VideoID': video_id,\n",
        "                'Comment': comment['textDisplay'],\n",
        "                'Date': comment['updatedAt'] if 'updatedAt' in comment else comment['publishedAt']\n",
        "            })\n",
        "\n",
        "        next_page_token = reply_response.get('nextPageToken')\n",
        "        if not next_page_token:\n",
        "            break\n",
        "\n",
        "    return replies\n",
        "\n",
        "# Function to get all comments (including replies) for a single video\n",
        "def get_comments_for_video(youtube, video_id):\n",
        "    all_comments = []\n",
        "    next_page_token = None\n",
        "\n",
        "    while True:\n",
        "        comment_request = youtube.commentThreads().list(\n",
        "            part=\"snippet\",\n",
        "            videoId=video_id,\n",
        "            pageToken=next_page_token,\n",
        "            textFormat=\"plainText\",\n",
        "            maxResults=100\n",
        "        )\n",
        "        comment_response = comment_request.execute()\n",
        "\n",
        "        for item in comment_response['items']:\n",
        "            top_comment = item['snippet']['topLevelComment']['snippet']\n",
        "            all_comments.append({\n",
        "                'Timestamp': top_comment['publishedAt'],\n",
        "                'Username': top_comment['authorDisplayName'],\n",
        "                'VideoID': video_id,  # Directly using video_id from function parameter\n",
        "                'Comment': top_comment['textDisplay'],\n",
        "                'Date': top_comment['updatedAt'] if 'updatedAt' in top_comment else top_comment['publishedAt']\n",
        "            })\n",
        "\n",
        "            # Fetch replies if there are any\n",
        "            if item['snippet']['totalReplyCount'] > 0:\n",
        "                all_comments.extend(get_replies(youtube, item['snippet']['topLevelComment']['id'], video_id))\n",
        "\n",
        "        next_page_token = comment_response.get('nextPageToken')\n",
        "        if not next_page_token:\n",
        "            break\n",
        "\n",
        "    return all_comments\n",
        "\n",
        "# List to hold all comments from all videos\n",
        "all_comments = []\n",
        "\n",
        "\n",
        "for video_id in video_ids:\n",
        "    video_comments = get_comments_for_video(youtube, video_id)\n",
        "    all_comments.extend(video_comments)\n",
        "\n",
        "# Create DataFrame\n",
        "comments_df = pd.DataFrame(all_comments)\n"
      ],
      "metadata": {
        "id": "vUdZCrxHmnL8"
      },
      "execution_count": 8,
      "outputs": []
    },
    {
      "cell_type": "markdown",
      "source": [
        "### Output to CSV"
      ],
      "metadata": {
        "id": "sQeo2iTwDROo"
      }
    },
    {
      "cell_type": "code",
      "source": [
        "# Export whole dataset to the local machine as CSV File\n",
        "csv_file = 'comments_data.csv'  # Name your file\n",
        "comments_df.to_csv(csv_file, index=False)\n",
        "\n",
        "from google.colab import files\n",
        "\n",
        "# Trigger a download to your local machine\n",
        "files.download(csv_file)"
      ],
      "metadata": {
        "colab": {
          "base_uri": "https://localhost:8080/",
          "height": 17
        },
        "id": "-phDM_447hTR",
        "outputId": "cd55a771-c40b-4347-f662-5367f03978ff"
      },
      "execution_count": 10,
      "outputs": [
        {
          "output_type": "display_data",
          "data": {
            "text/plain": [
              "<IPython.core.display.Javascript object>"
            ],
            "application/javascript": [
              "\n",
              "    async function download(id, filename, size) {\n",
              "      if (!google.colab.kernel.accessAllowed) {\n",
              "        return;\n",
              "      }\n",
              "      const div = document.createElement('div');\n",
              "      const label = document.createElement('label');\n",
              "      label.textContent = `Downloading \"${filename}\": `;\n",
              "      div.appendChild(label);\n",
              "      const progress = document.createElement('progress');\n",
              "      progress.max = size;\n",
              "      div.appendChild(progress);\n",
              "      document.body.appendChild(div);\n",
              "\n",
              "      const buffers = [];\n",
              "      let downloaded = 0;\n",
              "\n",
              "      const channel = await google.colab.kernel.comms.open(id);\n",
              "      // Send a message to notify the kernel that we're ready.\n",
              "      channel.send({})\n",
              "\n",
              "      for await (const message of channel.messages) {\n",
              "        // Send a message to notify the kernel that we're ready.\n",
              "        channel.send({})\n",
              "        if (message.buffers) {\n",
              "          for (const buffer of message.buffers) {\n",
              "            buffers.push(buffer);\n",
              "            downloaded += buffer.byteLength;\n",
              "            progress.value = downloaded;\n",
              "          }\n",
              "        }\n",
              "      }\n",
              "      const blob = new Blob(buffers, {type: 'application/binary'});\n",
              "      const a = document.createElement('a');\n",
              "      a.href = window.URL.createObjectURL(blob);\n",
              "      a.download = filename;\n",
              "      div.appendChild(a);\n",
              "      a.click();\n",
              "      div.remove();\n",
              "    }\n",
              "  "
            ]
          },
          "metadata": {}
        },
        {
          "output_type": "display_data",
          "data": {
            "text/plain": [
              "<IPython.core.display.Javascript object>"
            ],
            "application/javascript": [
              "download(\"download_047de121-8486-464a-8e7f-dd48c9934972\", \"comments_data.csv\", 3193)"
            ]
          },
          "metadata": {}
        }
      ]
    }
  ]
}